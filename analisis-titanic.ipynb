{
 "cells": [
  {
   "cell_type": "code",
   "execution_count": 1,
   "id": "bdf753c8",
   "metadata": {
    "_cell_guid": "b1076dfc-b9ad-4769-8c92-a6c4dae69d19",
    "_uuid": "8f2839f25d086af736a60e9eeb907d3b93b6e0e5",
    "execution": {
     "iopub.execute_input": "2022-04-27T18:51:51.496486Z",
     "iopub.status.busy": "2022-04-27T18:51:51.495657Z",
     "iopub.status.idle": "2022-04-27T18:51:51.511855Z",
     "shell.execute_reply": "2022-04-27T18:51:51.511019Z"
    },
    "papermill": {
     "duration": 0.038738,
     "end_time": "2022-04-27T18:51:51.514250",
     "exception": false,
     "start_time": "2022-04-27T18:51:51.475512",
     "status": "completed"
    },
    "tags": []
   },
   "outputs": [
    {
     "name": "stdout",
     "output_type": "stream",
     "text": [
      "/kaggle/input/titanic/train.csv\n",
      "/kaggle/input/titanic/test.csv\n",
      "/kaggle/input/titanic/gender_submission.csv\n"
     ]
    }
   ],
   "source": [
    "# This Python 3 environment comes with many helpful analytics libraries installed\n",
    "# It is defined by the kaggle/python Docker image: https://github.com/kaggle/docker-python\n",
    "# For example, here's several helpful packages to load\n",
    "\n",
    "import numpy as np # linear algebra\n",
    "import pandas as pd # data processing, CSV file I/O (e.g. pd.read_csv)\n",
    "\n",
    "# Input data files are available in the read-only \"../input/\" directory\n",
    "# For example, running this (by clicking run or pressing Shift+Enter) will list all files under the input directory\n",
    "\n",
    "import os\n",
    "for dirname, _, filenames in os.walk('/kaggle/input'):\n",
    "    for filename in filenames:\n",
    "        print(os.path.join(dirname, filename))\n",
    "\n",
    "# You can write up to 20GB to the current directory (/kaggle/working/) that gets preserved as output when you create a version using \"Save & Run All\" \n",
    "# You can also write temporary files to /kaggle/temp/, but they won't be saved outside of the current session"
   ]
  },
  {
   "cell_type": "code",
   "execution_count": 2,
   "id": "9a8f1ccc",
   "metadata": {
    "execution": {
     "iopub.execute_input": "2022-04-27T18:51:51.553655Z",
     "iopub.status.busy": "2022-04-27T18:51:51.552986Z",
     "iopub.status.idle": "2022-04-27T18:51:51.589325Z",
     "shell.execute_reply": "2022-04-27T18:51:51.588409Z"
    },
    "papermill": {
     "duration": 0.056756,
     "end_time": "2022-04-27T18:51:51.591631",
     "exception": false,
     "start_time": "2022-04-27T18:51:51.534875",
     "status": "completed"
    },
    "tags": []
   },
   "outputs": [],
   "source": [
    "train_data = pd.read_csv(\"/kaggle/input/titanic/train.csv\")\n",
    "test_data = pd.read_csv(\"/kaggle/input/titanic/test.csv\")\n",
    "gender_submission_data = pd.read_csv(\"/kaggle/input/titanic/gender_submission.csv\")"
   ]
  },
  {
   "cell_type": "code",
   "execution_count": 3,
   "id": "01837a89",
   "metadata": {
    "execution": {
     "iopub.execute_input": "2022-04-27T18:51:51.624333Z",
     "iopub.status.busy": "2022-04-27T18:51:51.623825Z",
     "iopub.status.idle": "2022-04-27T18:51:51.633997Z",
     "shell.execute_reply": "2022-04-27T18:51:51.633163Z"
    },
    "papermill": {
     "duration": 0.028879,
     "end_time": "2022-04-27T18:51:51.636046",
     "exception": false,
     "start_time": "2022-04-27T18:51:51.607167",
     "status": "completed"
    },
    "tags": []
   },
   "outputs": [],
   "source": [
    "avg_age = int(np.average(train_data['Age'][train_data['Age'].isna()==False]))\n",
    "train_data['Age'].fillna(avg_age, inplace = True)"
   ]
  },
  {
   "cell_type": "code",
   "execution_count": 4,
   "id": "f0b2aa36",
   "metadata": {
    "execution": {
     "iopub.execute_input": "2022-04-27T18:51:51.669820Z",
     "iopub.status.busy": "2022-04-27T18:51:51.669215Z",
     "iopub.status.idle": "2022-04-27T18:51:51.678933Z",
     "shell.execute_reply": "2022-04-27T18:51:51.678346Z"
    },
    "papermill": {
     "duration": 0.028798,
     "end_time": "2022-04-27T18:51:51.680745",
     "exception": false,
     "start_time": "2022-04-27T18:51:51.651947",
     "status": "completed"
    },
    "tags": []
   },
   "outputs": [],
   "source": [
    "train_data['Sex_Num'] = train_data['Sex'].map({'female':0, 'male':1}).astype(int)"
   ]
  },
  {
   "cell_type": "code",
   "execution_count": 5,
   "id": "851a1b71",
   "metadata": {
    "execution": {
     "iopub.execute_input": "2022-04-27T18:51:51.712788Z",
     "iopub.status.busy": "2022-04-27T18:51:51.712007Z",
     "iopub.status.idle": "2022-04-27T18:51:51.731088Z",
     "shell.execute_reply": "2022-04-27T18:51:51.730155Z"
    },
    "papermill": {
     "duration": 0.037143,
     "end_time": "2022-04-27T18:51:51.733067",
     "exception": false,
     "start_time": "2022-04-27T18:51:51.695924",
     "status": "completed"
    },
    "tags": []
   },
   "outputs": [
    {
     "data": {
      "text/html": [
       "<div>\n",
       "<style scoped>\n",
       "    .dataframe tbody tr th:only-of-type {\n",
       "        vertical-align: middle;\n",
       "    }\n",
       "\n",
       "    .dataframe tbody tr th {\n",
       "        vertical-align: top;\n",
       "    }\n",
       "\n",
       "    .dataframe thead th {\n",
       "        text-align: right;\n",
       "    }\n",
       "</style>\n",
       "<table border=\"1\" class=\"dataframe\">\n",
       "  <thead>\n",
       "    <tr style=\"text-align: right;\">\n",
       "      <th></th>\n",
       "      <th>PassengerId</th>\n",
       "      <th>Survived</th>\n",
       "      <th>Pclass</th>\n",
       "      <th>Name</th>\n",
       "      <th>Sex</th>\n",
       "      <th>Age</th>\n",
       "      <th>SibSp</th>\n",
       "      <th>Parch</th>\n",
       "      <th>Ticket</th>\n",
       "      <th>Fare</th>\n",
       "      <th>Cabin</th>\n",
       "      <th>Embarked</th>\n",
       "      <th>Sex_Num</th>\n",
       "    </tr>\n",
       "  </thead>\n",
       "  <tbody>\n",
       "    <tr>\n",
       "      <th>0</th>\n",
       "      <td>1</td>\n",
       "      <td>0</td>\n",
       "      <td>3</td>\n",
       "      <td>Braund, Mr. Owen Harris</td>\n",
       "      <td>male</td>\n",
       "      <td>22.0</td>\n",
       "      <td>1</td>\n",
       "      <td>0</td>\n",
       "      <td>A/5 21171</td>\n",
       "      <td>7.2500</td>\n",
       "      <td>NaN</td>\n",
       "      <td>S</td>\n",
       "      <td>1</td>\n",
       "    </tr>\n",
       "    <tr>\n",
       "      <th>1</th>\n",
       "      <td>2</td>\n",
       "      <td>1</td>\n",
       "      <td>1</td>\n",
       "      <td>Cumings, Mrs. John Bradley (Florence Briggs Th...</td>\n",
       "      <td>female</td>\n",
       "      <td>38.0</td>\n",
       "      <td>1</td>\n",
       "      <td>0</td>\n",
       "      <td>PC 17599</td>\n",
       "      <td>71.2833</td>\n",
       "      <td>C85</td>\n",
       "      <td>C</td>\n",
       "      <td>0</td>\n",
       "    </tr>\n",
       "    <tr>\n",
       "      <th>2</th>\n",
       "      <td>3</td>\n",
       "      <td>1</td>\n",
       "      <td>3</td>\n",
       "      <td>Heikkinen, Miss. Laina</td>\n",
       "      <td>female</td>\n",
       "      <td>26.0</td>\n",
       "      <td>0</td>\n",
       "      <td>0</td>\n",
       "      <td>STON/O2. 3101282</td>\n",
       "      <td>7.9250</td>\n",
       "      <td>NaN</td>\n",
       "      <td>S</td>\n",
       "      <td>0</td>\n",
       "    </tr>\n",
       "  </tbody>\n",
       "</table>\n",
       "</div>"
      ],
      "text/plain": [
       "   PassengerId  Survived  Pclass  \\\n",
       "0            1         0       3   \n",
       "1            2         1       1   \n",
       "2            3         1       3   \n",
       "\n",
       "                                                Name     Sex   Age  SibSp  \\\n",
       "0                            Braund, Mr. Owen Harris    male  22.0      1   \n",
       "1  Cumings, Mrs. John Bradley (Florence Briggs Th...  female  38.0      1   \n",
       "2                             Heikkinen, Miss. Laina  female  26.0      0   \n",
       "\n",
       "   Parch            Ticket     Fare Cabin Embarked  Sex_Num  \n",
       "0      0         A/5 21171   7.2500   NaN        S        1  \n",
       "1      0          PC 17599  71.2833   C85        C        0  \n",
       "2      0  STON/O2. 3101282   7.9250   NaN        S        0  "
      ]
     },
     "execution_count": 5,
     "metadata": {},
     "output_type": "execute_result"
    }
   ],
   "source": [
    "train_data.head(3)"
   ]
  },
  {
   "cell_type": "code",
   "execution_count": 6,
   "id": "1ccb7cb6",
   "metadata": {
    "collapsed": true,
    "execution": {
     "iopub.execute_input": "2022-04-27T18:51:51.766041Z",
     "iopub.status.busy": "2022-04-27T18:51:51.765765Z",
     "iopub.status.idle": "2022-04-27T18:51:52.069963Z",
     "shell.execute_reply": "2022-04-27T18:51:52.069187Z"
    },
    "jupyter": {
     "outputs_hidden": true
    },
    "papermill": {
     "duration": 0.323283,
     "end_time": "2022-04-27T18:51:52.072032",
     "exception": false,
     "start_time": "2022-04-27T18:51:51.748749",
     "status": "completed"
    },
    "tags": []
   },
   "outputs": [
    {
     "name": "stdout",
     "output_type": "stream",
     "text": [
      "Survived    0    1\n",
      "Sex               \n",
      "female     81  233\n",
      "male      468  109\n"
     ]
    },
    {
     "data": {
      "text/plain": [
       "<AxesSubplot:xlabel='Sex'>"
      ]
     },
     "execution_count": 6,
     "metadata": {},
     "output_type": "execute_result"
    },
    {
     "data": {
      "image/png": "[encoded data removed]",
      "text/plain": [
       "<Figure size 432x288 with 1 Axes>"
      ]
     },
     "metadata": {
      "needs_background": "light"
     },
     "output_type": "display_data"
    }
   ],
   "source": [
    "grouped_sex = train_data.groupby(['Survived','Sex']).count()['PassengerId'].unstack(level=0)\n",
    "print(grouped_sex)\n",
    "grouped_sex.plot.bar()"
   ]
  },
  {
   "cell_type": "code",
   "execution_count": 7,
   "id": "321b7867",
   "metadata": {
    "execution": {
     "iopub.execute_input": "2022-04-27T18:51:52.107747Z",
     "iopub.status.busy": "2022-04-27T18:51:52.107122Z",
     "iopub.status.idle": "2022-04-27T18:51:52.294894Z",
     "shell.execute_reply": "2022-04-27T18:51:52.293825Z"
    },
    "papermill": {
     "duration": 0.208005,
     "end_time": "2022-04-27T18:51:52.297173",
     "exception": false,
     "start_time": "2022-04-27T18:51:52.089168",
     "status": "completed"
    },
    "tags": []
   },
   "outputs": [
    {
     "name": "stdout",
     "output_type": "stream",
     "text": [
      "Survived         0   1\n",
      "Sex    Pclass         \n",
      "female 1         3  91\n",
      "       2         6  70\n",
      "       3        72  72\n",
      "male   1        77  45\n",
      "       2        91  17\n",
      "       3       300  47\n"
     ]
    },
    {
     "data": {
      "text/plain": [
       "<AxesSubplot:xlabel='Sex,Pclass'>"
      ]
     },
     "execution_count": 7,
     "metadata": {},
     "output_type": "execute_result"
    },
    {
     "data": {
      "image/png": "[encoded data removed]",
      "text/plain": [
       "<Figure size 432x288 with 1 Axes>"
      ]
     },
     "metadata": {
      "needs_background": "light"
     },
     "output_type": "display_data"
    }
   ],
   "source": [
    "grouped_class_sex = train_data.groupby(['Survived','Sex', 'Pclass']).count()['PassengerId'].unstack(level=0)\n",
    "print(grouped_class_sex)\n",
    "grouped_class_sex.plot.bar()"
   ]
  },
  {
   "cell_type": "code",
   "execution_count": 8,
   "id": "0fb7b467",
   "metadata": {
    "execution": {
     "iopub.execute_input": "2022-04-27T18:51:52.336622Z",
     "iopub.status.busy": "2022-04-27T18:51:52.335909Z",
     "iopub.status.idle": "2022-04-27T18:51:52.342212Z",
     "shell.execute_reply": "2022-04-27T18:51:52.341522Z"
    },
    "papermill": {
     "duration": 0.028304,
     "end_time": "2022-04-27T18:51:52.344081",
     "exception": false,
     "start_time": "2022-04-27T18:51:52.315777",
     "status": "completed"
    },
    "tags": []
   },
   "outputs": [],
   "source": [
    "#para crear un WHERE como SQL usamos la funcion np.where de NUMPY\n",
    "train_data['Trvl_Aln']= np.where((train_data['SibSp'] == 0) & (train_data['Parch'] == 0),1,0) #1 si viaja solo, 0 e.o.c"
   ]
  },
  {
   "cell_type": "code",
   "execution_count": 9,
   "id": "9a50c4c4",
   "metadata": {
    "execution": {
     "iopub.execute_input": "2022-04-27T18:51:52.384223Z",
     "iopub.status.busy": "2022-04-27T18:51:52.383729Z",
     "iopub.status.idle": "2022-04-27T18:51:52.397314Z",
     "shell.execute_reply": "2022-04-27T18:51:52.396518Z"
    },
    "papermill": {
     "duration": 0.036768,
     "end_time": "2022-04-27T18:51:52.399241",
     "exception": false,
     "start_time": "2022-04-27T18:51:52.362473",
     "status": "completed"
    },
    "tags": []
   },
   "outputs": [
    {
     "data": {
      "text/html": [
       "<div>\n",
       "<style scoped>\n",
       "    .dataframe tbody tr th:only-of-type {\n",
       "        vertical-align: middle;\n",
       "    }\n",
       "\n",
       "    .dataframe tbody tr th {\n",
       "        vertical-align: top;\n",
       "    }\n",
       "\n",
       "    .dataframe thead th {\n",
       "        text-align: right;\n",
       "    }\n",
       "</style>\n",
       "<table border=\"1\" class=\"dataframe\">\n",
       "  <thead>\n",
       "    <tr style=\"text-align: right;\">\n",
       "      <th></th>\n",
       "      <th>PassengerId</th>\n",
       "      <th>Survived</th>\n",
       "      <th>Pclass</th>\n",
       "      <th>Name</th>\n",
       "      <th>Sex</th>\n",
       "      <th>Age</th>\n",
       "      <th>SibSp</th>\n",
       "      <th>Parch</th>\n",
       "      <th>Ticket</th>\n",
       "      <th>Fare</th>\n",
       "      <th>Cabin</th>\n",
       "      <th>Embarked</th>\n",
       "      <th>Sex_Num</th>\n",
       "      <th>Trvl_Aln</th>\n",
       "    </tr>\n",
       "  </thead>\n",
       "  <tbody>\n",
       "    <tr>\n",
       "      <th>0</th>\n",
       "      <td>1</td>\n",
       "      <td>0</td>\n",
       "      <td>3</td>\n",
       "      <td>Braund, Mr. Owen Harris</td>\n",
       "      <td>male</td>\n",
       "      <td>22.0</td>\n",
       "      <td>1</td>\n",
       "      <td>0</td>\n",
       "      <td>A/5 21171</td>\n",
       "      <td>7.2500</td>\n",
       "      <td>NaN</td>\n",
       "      <td>S</td>\n",
       "      <td>1</td>\n",
       "      <td>0</td>\n",
       "    </tr>\n",
       "    <tr>\n",
       "      <th>1</th>\n",
       "      <td>2</td>\n",
       "      <td>1</td>\n",
       "      <td>1</td>\n",
       "      <td>Cumings, Mrs. John Bradley (Florence Briggs Th...</td>\n",
       "      <td>female</td>\n",
       "      <td>38.0</td>\n",
       "      <td>1</td>\n",
       "      <td>0</td>\n",
       "      <td>PC 17599</td>\n",
       "      <td>71.2833</td>\n",
       "      <td>C85</td>\n",
       "      <td>C</td>\n",
       "      <td>0</td>\n",
       "      <td>0</td>\n",
       "    </tr>\n",
       "    <tr>\n",
       "      <th>2</th>\n",
       "      <td>3</td>\n",
       "      <td>1</td>\n",
       "      <td>3</td>\n",
       "      <td>Heikkinen, Miss. Laina</td>\n",
       "      <td>female</td>\n",
       "      <td>26.0</td>\n",
       "      <td>0</td>\n",
       "      <td>0</td>\n",
       "      <td>STON/O2. 3101282</td>\n",
       "      <td>7.9250</td>\n",
       "      <td>NaN</td>\n",
       "      <td>S</td>\n",
       "      <td>0</td>\n",
       "      <td>1</td>\n",
       "    </tr>\n",
       "  </tbody>\n",
       "</table>\n",
       "</div>"
      ],
      "text/plain": [
       "   PassengerId  Survived  Pclass  \\\n",
       "0            1         0       3   \n",
       "1            2         1       1   \n",
       "2            3         1       3   \n",
       "\n",
       "                                                Name     Sex   Age  SibSp  \\\n",
       "0                            Braund, Mr. Owen Harris    male  22.0      1   \n",
       "1  Cumings, Mrs. John Bradley (Florence Briggs Th...  female  38.0      1   \n",
       "2                             Heikkinen, Miss. Laina  female  26.0      0   \n",
       "\n",
       "   Parch            Ticket     Fare Cabin Embarked  Sex_Num  Trvl_Aln  \n",
       "0      0         A/5 21171   7.2500   NaN        S        1         0  \n",
       "1      0          PC 17599  71.2833   C85        C        0         0  \n",
       "2      0  STON/O2. 3101282   7.9250   NaN        S        0         1  "
      ]
     },
     "execution_count": 9,
     "metadata": {},
     "output_type": "execute_result"
    }
   ],
   "source": [
    "train_data.head(3)"
   ]
  },
  {
   "cell_type": "code",
   "execution_count": 10,
   "id": "6d9e92d7",
   "metadata": {
    "execution": {
     "iopub.execute_input": "2022-04-27T18:51:52.440576Z",
     "iopub.status.busy": "2022-04-27T18:51:52.440271Z",
     "iopub.status.idle": "2022-04-27T18:51:52.609435Z",
     "shell.execute_reply": "2022-04-27T18:51:52.608548Z"
    },
    "papermill": {
     "duration": 0.192444,
     "end_time": "2022-04-27T18:51:52.611369",
     "exception": false,
     "start_time": "2022-04-27T18:51:52.418925",
     "status": "completed"
    },
    "tags": []
   },
   "outputs": [
    {
     "name": "stdout",
     "output_type": "stream",
     "text": [
      "Survived    0    1\n",
      "Trvl_Aln          \n",
      "0         175  179\n",
      "1         374  163\n"
     ]
    },
    {
     "data": {
      "text/plain": [
       "<AxesSubplot:xlabel='Trvl_Aln'>"
      ]
     },
     "execution_count": 10,
     "metadata": {},
     "output_type": "execute_result"
    },
    {
     "data": {
      "image/png": "[encoded data removed]",
      "text/plain": [
       "<Figure size 432x288 with 1 Axes>"
      ]
     },
     "metadata": {
      "needs_background": "light"
     },
     "output_type": "display_data"
    }
   ],
   "source": [
    "grouped_trvalo_Survived = train_data.groupby(['Survived', 'Trvl_Aln']).count()['PassengerId'].unstack(level=0)\n",
    "print(grouped_trvalo_Survived)\n",
    "grouped_trvalo_Survived.plot.bar()"
   ]
  },
  {
   "cell_type": "code",
   "execution_count": 11,
   "id": "4c504d86",
   "metadata": {
    "execution": {
     "iopub.execute_input": "2022-04-27T18:51:52.653155Z",
     "iopub.status.busy": "2022-04-27T18:51:52.652219Z",
     "iopub.status.idle": "2022-04-27T18:51:52.663134Z",
     "shell.execute_reply": "2022-04-27T18:51:52.662362Z"
    },
    "papermill": {
     "duration": 0.03408,
     "end_time": "2022-04-27T18:51:52.665168",
     "exception": false,
     "start_time": "2022-04-27T18:51:52.631088",
     "status": "completed"
    },
    "tags": []
   },
   "outputs": [
    {
     "data": {
      "text/plain": [
       "Survived  Embarked\n",
       "0         C            75\n",
       "          Q            47\n",
       "          S           427\n",
       "1         C            93\n",
       "          Q            30\n",
       "          S           217\n",
       "Name: PassengerId, dtype: int64"
      ]
     },
     "execution_count": 11,
     "metadata": {},
     "output_type": "execute_result"
    }
   ],
   "source": [
    "train_data.groupby(['Survived', 'Embarked']).count()['PassengerId']"
   ]
  },
  {
   "cell_type": "markdown",
   "id": "2cb20f29",
   "metadata": {
    "papermill": {
     "duration": 0.019916,
     "end_time": "2022-04-27T18:51:52.705254",
     "exception": false,
     "start_time": "2022-04-27T18:51:52.685338",
     "status": "completed"
    },
    "tags": []
   },
   "source": [
    "## Crear Modelo de MI"
   ]
  },
  {
   "cell_type": "code",
   "execution_count": 12,
   "id": "de47eb4f",
   "metadata": {
    "execution": {
     "iopub.execute_input": "2022-04-27T18:51:52.747416Z",
     "iopub.status.busy": "2022-04-27T18:51:52.746734Z",
     "iopub.status.idle": "2022-04-27T18:51:52.752957Z",
     "shell.execute_reply": "2022-04-27T18:51:52.752110Z"
    },
    "papermill": {
     "duration": 0.030141,
     "end_time": "2022-04-27T18:51:52.755688",
     "exception": false,
     "start_time": "2022-04-27T18:51:52.725547",
     "status": "completed"
    },
    "tags": []
   },
   "outputs": [
    {
     "name": "stdout",
     "output_type": "stream",
     "text": [
      "(891,) (891, 4)\n"
     ]
    }
   ],
   "source": [
    "# variable dependiente\n",
    "Y_train = train_data['Survived']\n",
    "\n",
    "# preprocesamiento de variables independientes\n",
    "features = ['Sex_Num', 'Age', 'Pclass', 'Trvl_Aln']\n",
    "X_train = train_data[features]\n",
    "\n",
    "print(Y_train.shape, X_train.shape)"
   ]
  },
  {
   "cell_type": "markdown",
   "id": "e03927f9",
   "metadata": {
    "papermill": {
     "duration": 0.020497,
     "end_time": "2022-04-27T18:51:52.798101",
     "exception": false,
     "start_time": "2022-04-27T18:51:52.777604",
     "status": "completed"
    },
    "tags": []
   },
   "source": [
    "Sin entrar en mucho detalle. Vamos a escoger dos modelos de prueba.\n",
    "* regresión logistica\n",
    "* arboles de decisión"
   ]
  },
  {
   "cell_type": "code",
   "execution_count": 13,
   "id": "f6dcd821",
   "metadata": {
    "execution": {
     "iopub.execute_input": "2022-04-27T18:51:52.840890Z",
     "iopub.status.busy": "2022-04-27T18:51:52.840365Z",
     "iopub.status.idle": "2022-04-27T18:51:53.886474Z",
     "shell.execute_reply": "2022-04-27T18:51:53.885601Z"
    },
    "papermill": {
     "duration": 1.069814,
     "end_time": "2022-04-27T18:51:53.888478",
     "exception": false,
     "start_time": "2022-04-27T18:51:52.818664",
     "status": "completed"
    },
    "tags": []
   },
   "outputs": [
    {
     "data": {
      "text/plain": [
       "LogisticRegression()"
      ]
     },
     "execution_count": 13,
     "metadata": {},
     "output_type": "execute_result"
    }
   ],
   "source": [
    "# entrenando modelo regresión logistica\n",
    "from sklearn.linear_model import LogisticRegression\n",
    "\n",
    "logreg = LogisticRegression()\n",
    "logreg.fit(X_train, Y_train)"
   ]
  },
  {
   "cell_type": "code",
   "execution_count": 14,
   "id": "9225ffd5",
   "metadata": {
    "execution": {
     "iopub.execute_input": "2022-04-27T18:51:53.932288Z",
     "iopub.status.busy": "2022-04-27T18:51:53.932003Z",
     "iopub.status.idle": "2022-04-27T18:51:54.016279Z",
     "shell.execute_reply": "2022-04-27T18:51:54.015471Z"
    },
    "papermill": {
     "duration": 0.108176,
     "end_time": "2022-04-27T18:51:54.018193",
     "exception": false,
     "start_time": "2022-04-27T18:51:53.910017",
     "status": "completed"
    },
    "tags": []
   },
   "outputs": [
    {
     "data": {
      "text/plain": [
       "DecisionTreeClassifier()"
      ]
     },
     "execution_count": 14,
     "metadata": {},
     "output_type": "execute_result"
    }
   ],
   "source": [
    "# entrenando modelo arboles de decisión\n",
    "from sklearn.tree import DecisionTreeClassifier\n",
    "\n",
    "decision_tree = DecisionTreeClassifier()\n",
    "decision_tree.fit(X_train, Y_train)"
   ]
  },
  {
   "cell_type": "code",
   "execution_count": 15,
   "id": "f2c8a82a",
   "metadata": {
    "execution": {
     "iopub.execute_input": "2022-04-27T18:51:54.061642Z",
     "iopub.status.busy": "2022-04-27T18:51:54.061365Z",
     "iopub.status.idle": "2022-04-27T18:51:54.065052Z",
     "shell.execute_reply": "2022-04-27T18:51:54.064306Z"
    },
    "papermill": {
     "duration": 0.027703,
     "end_time": "2022-04-27T18:51:54.066903",
     "exception": false,
     "start_time": "2022-04-27T18:51:54.039200",
     "status": "completed"
    },
    "tags": []
   },
   "outputs": [],
   "source": [
    "import matplotlib.pyplot as plt"
   ]
  },
  {
   "cell_type": "code",
   "execution_count": 16,
   "id": "c0f3cfd8",
   "metadata": {
    "execution": {
     "iopub.execute_input": "2022-04-27T18:51:54.110654Z",
     "iopub.status.busy": "2022-04-27T18:51:54.110384Z",
     "iopub.status.idle": "2022-04-27T18:51:54.116084Z",
     "shell.execute_reply": "2022-04-27T18:51:54.115343Z"
    },
    "papermill": {
     "duration": 0.029789,
     "end_time": "2022-04-27T18:51:54.117837",
     "exception": false,
     "start_time": "2022-04-27T18:51:54.088048",
     "status": "completed"
    },
    "tags": []
   },
   "outputs": [],
   "source": [
    "from sklearn.metrics import plot_confusion_matrix\n",
    "\n",
    "def conf_mat_acc(modelo):\n",
    "  disp = plot_confusion_matrix(modelo, X_train, Y_train,\n",
    "                        cmap=plt.cm.Blues, values_format=\"d\")\n",
    "  true_pred = disp.confusion_matrix[0,0]+disp.confusion_matrix[1,1]\n",
    "  total_data = np.sum(disp.confusion_matrix)\n",
    "  accuracy = true_pred/total_data\n",
    "  print('accuracy: ', np.round(accuracy, 2))\n",
    "  plt.show()"
   ]
  },
  {
   "cell_type": "code",
   "execution_count": 17,
   "id": "171b4b33",
   "metadata": {
    "execution": {
     "iopub.execute_input": "2022-04-27T18:51:54.162711Z",
     "iopub.status.busy": "2022-04-27T18:51:54.161925Z",
     "iopub.status.idle": "2022-04-27T18:51:54.316280Z",
     "shell.execute_reply": "2022-04-27T18:51:54.314748Z"
    },
    "papermill": {
     "duration": 0.179542,
     "end_time": "2022-04-27T18:51:54.318489",
     "exception": false,
     "start_time": "2022-04-27T18:51:54.138947",
     "status": "completed"
    },
    "tags": []
   },
   "outputs": [
    {
     "name": "stdout",
     "output_type": "stream",
     "text": [
      "accuracy:  0.79\n"
     ]
    },
    {
     "name": "stderr",
     "output_type": "stream",
     "text": [
      "/opt/conda/lib/python3.7/site-packages/sklearn/utils/deprecation.py:87: FutureWarning: Function plot_confusion_matrix is deprecated; Function `plot_confusion_matrix` is deprecated in 1.0 and will be removed in 1.2. Use one of the class methods: ConfusionMatrixDisplay.from_predictions or ConfusionMatrixDisplay.from_estimator.\n",
      "  warnings.warn(msg, category=FutureWarning)\n"
     ]
    },
    {
     "data": {
      "image/png": "[encoded data removed]",
      "text/plain": [
       "<Figure size 432x288 with 2 Axes>"
      ]
     },
     "metadata": {
      "needs_background": "light"
     },
     "output_type": "display_data"
    }
   ],
   "source": [
    "conf_mat_acc(logreg)"
   ]
  },
  {
   "cell_type": "code",
   "execution_count": 18,
   "id": "bae86624",
   "metadata": {
    "execution": {
     "iopub.execute_input": "2022-04-27T18:51:54.365554Z",
     "iopub.status.busy": "2022-04-27T18:51:54.364821Z",
     "iopub.status.idle": "2022-04-27T18:51:54.506494Z",
     "shell.execute_reply": "2022-04-27T18:51:54.505259Z"
    },
    "papermill": {
     "duration": 0.168033,
     "end_time": "2022-04-27T18:51:54.509264",
     "exception": false,
     "start_time": "2022-04-27T18:51:54.341231",
     "status": "completed"
    },
    "tags": []
   },
   "outputs": [
    {
     "name": "stdout",
     "output_type": "stream",
     "text": [
      "accuracy:  0.9\n"
     ]
    },
    {
     "name": "stderr",
     "output_type": "stream",
     "text": [
      "/opt/conda/lib/python3.7/site-packages/sklearn/utils/deprecation.py:87: FutureWarning: Function plot_confusion_matrix is deprecated; Function `plot_confusion_matrix` is deprecated in 1.0 and will be removed in 1.2. Use one of the class methods: ConfusionMatrixDisplay.from_predictions or ConfusionMatrixDisplay.from_estimator.\n",
      "  warnings.warn(msg, category=FutureWarning)\n"
     ]
    },
    {
     "data": {
      "image/png": "[encoded data removed]",
      "text/plain": [
       "<Figure size 432x288 with 2 Axes>"
      ]
     },
     "metadata": {
      "needs_background": "light"
     },
     "output_type": "display_data"
    }
   ],
   "source": [
    "conf_mat_acc(decision_tree)"
   ]
  }
 ],
 "metadata": {
  "kernelspec": {
   "display_name": "Python 3",
   "language": "python",
   "name": "python3"
  },
  "language_info": {
   "codemirror_mode": {
    "name": "ipython",
    "version": 3
   },
   "file_extension": ".py",
   "mimetype": "text/x-python",
   "name": "python",
   "nbconvert_exporter": "python",
   "pygments_lexer": "ipython3",
   "version": "3.7.12"
  },
  "papermill": {
   "default_parameters": {},
   "duration": 12.202682,
   "end_time": "2022-04-27T18:51:55.254971",
   "environment_variables": {},
   "exception": null,
   "input_path": "__notebook__.ipynb",
   "output_path": "__notebook__.ipynb",
   "parameters": {},
   "start_time": "2022-04-27T18:51:43.052289",
   "version": "2.3.4"
  }
 },
 "nbformat": 4,
 "nbformat_minor": 5
}
